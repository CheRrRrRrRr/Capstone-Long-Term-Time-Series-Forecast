{
 "cells": [
  {
   "cell_type": "code",
   "execution_count": 1,
   "metadata": {},
   "outputs": [],
   "source": [
    "import numpy as np\n",
    "import pandas as pd"
   ]
  },
  {
   "cell_type": "code",
   "execution_count": 2,
   "metadata": {},
   "outputs": [
    {
     "ename": "NameError",
     "evalue": "name 'df' is not defined",
     "output_type": "error",
     "traceback": [
      "\u001b[0;31m---------------------------------------------------------------------------\u001b[0m",
      "\u001b[0;31mNameError\u001b[0m                                 Traceback (most recent call last)",
      "\u001b[1;32m/userhome/cs2/u3604482/capstone/Time-Series-Library-main/inv_mse.ipynb Cell 2\u001b[0m line \u001b[0;36m1\n\u001b[0;32m----> <a href='vscode-notebook-cell://ssh-remote%2Balias/userhome/cs2/u3604482/capstone/Time-Series-Library-main/inv_mse.ipynb#W1sdnNjb2RlLXJlbW90ZQ%3D%3D?line=0'>1</a>\u001b[0m df\u001b[39m.\u001b[39mdrop(columns \u001b[39m=\u001b[39m [\u001b[39m'\u001b[39m\u001b[39mUnnamed: 0\u001b[39m\u001b[39m'\u001b[39m])\u001b[39m.\u001b[39mhead()\n",
      "\u001b[0;31mNameError\u001b[0m: name 'df' is not defined"
     ]
    }
   ],
   "source": [
    "df.drop(columns = ['Unnamed: 0']).head()"
   ]
  },
  {
   "cell_type": "code",
   "execution_count": 4,
   "metadata": {},
   "outputs": [],
   "source": [
    "# 换读取文件。close是next_close，return是next_return.\n",
    "df = pd.read_csv('/userhome/cs2/u3604482/capstone/Time-Series-Library-main/outputs/000300_pl192.csv')\n",
    "mse_dic = {}\n",
    "for model in df.drop(columns = ['Unnamed: 0','next_close']).columns:\n",
    "    temp = np.array([])\n",
    "    for i in range(len(df)):\n",
    "        temp = np.append(temp, np.sqrt(np.square(np.array(df[model][i][1:-1].split(','),dtype = float)-np.array(df['next_close'][i][1:-1].split(','),dtype = float)).mean()))\n",
    "    mse_dic[model] = temp.mean()"
   ]
  },
  {
   "cell_type": "code",
   "execution_count": 5,
   "metadata": {},
   "outputs": [
    {
     "data": {
      "text/plain": [
       "[('non', 509.0173381339245),\n",
       " ('times', 560.3756210378497),\n",
       " ('FED', 604.1622260398339),\n",
       " ('DL', 823.3086915272993),\n",
       " ('trans', 839.881101955038),\n",
       " ('auto', 839.9945917493474),\n",
       " ('inf', 904.0791426506999),\n",
       " ('light', 971.7229582990778),\n",
       " ('cross', 1105.8933420963738),\n",
       " ('pyra', 1180.3289360516267)]"
      ]
     },
     "execution_count": 5,
     "metadata": {},
     "output_type": "execute_result"
    }
   ],
   "source": [
    "sorted(mse_dic.items(), key=lambda kv: kv[1])"
   ]
  },
  {
   "cell_type": "code",
   "execution_count": 3,
   "metadata": {},
   "outputs": [],
   "source": [
    "# 换读取文件。close是next_close，return是next_return.\n",
    "df = pd.read_csv('/userhome/cs2/u3604482/capstone/Time-Series-Library-main/outputs/000300_return_pl192.csv')\n",
    "mse_dic = {}\n",
    "for model in df.drop(columns = ['Unnamed: 0','next_return']).columns:\n",
    "    temp = np.array([])\n",
    "    for i in range(len(df)):\n",
    "        temp = np.append(temp, np.sqrt(np.square(np.array(df[model][i][1:-1].split(','),dtype = float)-np.array(df['next_return'][i][1:-1].split(','),dtype = float)).mean()))\n",
    "    mse_dic[model] = temp.mean()"
   ]
  },
  {
   "cell_type": "code",
   "execution_count": 4,
   "metadata": {},
   "outputs": [
    {
     "data": {
      "text/plain": [
       "[('trans', 0.012047405988526319),\n",
       " ('FED', 0.01207167555477328),\n",
       " ('times', 0.012091945758493122),\n",
       " ('DL', 0.012095667876414081),\n",
       " ('pyra', 0.012117887895941162),\n",
       " ('auto', 0.012131630750166147),\n",
       " ('inf', 0.012153441451352647),\n",
       " ('non', 0.012187165554131891),\n",
       " ('cross', 0.013044082534175681),\n",
       " ('light', 0.014393352878929731)]"
      ]
     },
     "execution_count": 4,
     "metadata": {},
     "output_type": "execute_result"
    }
   ],
   "source": [
    "sorted(mse_dic.items(), key=lambda kv: kv[1])"
   ]
  }
 ],
 "metadata": {
  "kernelspec": {
   "display_name": "test1_env",
   "language": "python",
   "name": "python3"
  },
  "language_info": {
   "codemirror_mode": {
    "name": "ipython",
    "version": 3
   },
   "file_extension": ".py",
   "mimetype": "text/x-python",
   "name": "python",
   "nbconvert_exporter": "python",
   "pygments_lexer": "ipython3",
   "version": "3.8.2"
  },
  "orig_nbformat": 4
 },
 "nbformat": 4,
 "nbformat_minor": 2
}
