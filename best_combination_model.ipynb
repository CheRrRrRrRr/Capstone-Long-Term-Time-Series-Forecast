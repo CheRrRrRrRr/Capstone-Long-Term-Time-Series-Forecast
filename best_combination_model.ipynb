{
 "cells": [
  {
   "cell_type": "code",
   "execution_count": null,
   "metadata": {},
   "outputs": [],
   "source": [
    "import numpy as np\n",
    "import pandas as pd"
   ]
  },
  {
   "cell_type": "code",
   "execution_count": null,
   "metadata": {
    "scrolled": true
   },
   "outputs": [],
   "source": [
    "import os\n",
    "import numpy as np\n",
    "import pandas as pd\n",
    "import matplotlib.pyplot as plt\n",
    "# 提取RESULT文件里的模型名和预测数据\n",
    "def get_result(file_name,first_):\n",
    "    model_names,  names = ['auto', 'cross', 'non', 'DL', 'trans', 'pyra', 'times', 'inf', 'light', 'FED'], []\n",
    "    preds = []\n",
    "    for num_of_model in range(10):\n",
    "        files = os.listdir(f'/userhome/cs2/u3604482/capstone/Time-Series-Library-main/RESULTS/{file_name}/results') \n",
    "        lastIndex, curIndex, count, name = -1, -1, 0, files[num_of_model]\n",
    "        preds.append(f'/userhome/cs2/u3604482/capstone/Time-Series-Library-main/RESULTS/{file_name}/results/{name}/pred.npy')\n",
    "        while count < first_+1:\n",
    "            lastIndex = curIndex\n",
    "            curIndex += name.index('_') + 1\n",
    "            count += 1\n",
    "            name = files[num_of_model][curIndex+1:]\n",
    "        if (model_name := files[num_of_model][lastIndex+1:curIndex]) in model_names:\n",
    "            names.append(model_name)\n",
    "        else:\n",
    "            print(\"WRONG:\",model_name)\n",
    "    return names, preds\n",
    "\n",
    "# 为每个模型建立预测数据的data frame\n",
    "def create_pred_df(model, _model_names, low_model_names, trend_model_names, high_preds, low_preds, trend_preds):\n",
    "    high_model_index = high_model_names.index(model)\n",
    "    low_model_index = low_model_names.index(model)\n",
    "    trend_model_index = trend_model_names.index(model)\n",
    "    high_pred = np.load(high_preds[high_model_index])[:,:,-1]\n",
    "    low_pred = np.load(low_preds[low_model_index])[:,:,-1]\n",
    "    trend_pred = np.load(trend_preds[trend_model_index])[:,:,-1]\n",
    "    preds = {}\n",
    "    preds[model+'_high'] = high_pred.squeeze()\n",
    "    preds[model+'_low'] = low_pred.squeeze()\n",
    "    preds[model+'_trend'] = trend_pred.squeeze()\n",
    "    preds = pd.DataFrame(preds)\n",
    "    preds[model+'_pred_close'] = preds[model+'_high'] + preds[model+'_low'] + preds[model+'_trend']\n",
    "    return preds\n",
    "\n",
    "high_model_names, high_preds  = get_result('high_ceemdan_pl192_slide0',7)\n",
    "low_model_names, low_preds = get_result('low_ceemdan_pl192_slide0',7)\n",
    "trend_model_names, trend_preds = get_result('trend_ceemdan_pl192_slide0',7)"
   ]
  },
  {
   "cell_type": "code",
   "execution_count": null,
   "metadata": {},
   "outputs": [],
   "source": [
    "models = ['auto', 'cross', 'non', 'DL', 'trans', 'pyra', 'light', 'times', 'inf', 'FED']\n",
    "df_close = pd.read_csv('/userhome/cs2/u3604482/capstone/Time-Series-Library-main/dataset/myData/raw_data/000300.SH.csv')\n",
    "df = pd.DataFrame([])\n",
    "pred_len = 192\n",
    "for model in models:\n",
    "    df = pd.concat([df,create_pred_df(model, high_model_names, low_model_names, trend_model_names, high_preds, low_preds, trend_preds)], axis=1)\n",
    "df['next_close'] = df_close.next_close[-pred_len:].reset_index(drop=True)"
   ]
  },
  {
   "cell_type": "code",
   "execution_count": null,
   "metadata": {},
   "outputs": [],
   "source": [
    "df.head()"
   ]
  }
 ],
 "metadata": {
  "kernelspec": {
   "display_name": "Python 3 (ipykernel)",
   "language": "python",
   "name": "python3"
  },
  "language_info": {
   "codemirror_mode": {
    "name": "ipython",
    "version": 3
   },
   "file_extension": ".py",
   "mimetype": "text/x-python",
   "name": "python",
   "nbconvert_exporter": "python",
   "pygments_lexer": "ipython3",
   "version": "3.11.5"
  }
 },
 "nbformat": 4,
 "nbformat_minor": 2
}
